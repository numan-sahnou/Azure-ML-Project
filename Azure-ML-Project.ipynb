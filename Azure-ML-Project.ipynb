{
  "cells": [
    {
      "cell_type": "code",
      "source": [
        "# azureml-core of version 1.0.72 or higher is required\n",
        "# azureml-dataprep[pandas] of version 1.1.34 or higher is required\n",
        "from azureml.core import Workspace, Dataset\n",
        "import pandas as pd\n",
        "import numpy as np\n",
        "\n",
        "subscription_id = 'caaae8aa-a0a7-44db-a52c-2690c23ed8c4'\n",
        "resource_group = 'ST2AIC-BD-1-SG1'\n",
        "workspace_name = 'SAHNOU_WORKSPACE'\n",
        "\n",
        "workspace = Workspace(subscription_id, resource_group, workspace_name)\n",
        "\n",
        "dataset = Dataset.get_by_name(workspace, name='house-price')\n",
        "df = dataset.to_pandas_dataframe()\n",
        "\n",
        "df"
      ],
      "outputs": [
        {
          "output_type": "execute_result",
          "execution_count": 98,
          "data": {
            "text/html": "<div>\n<style scoped>\n    .dataframe tbody tr th:only-of-type {\n        vertical-align: middle;\n    }\n\n    .dataframe tbody tr th {\n        vertical-align: top;\n    }\n\n    .dataframe thead th {\n        text-align: right;\n    }\n</style>\n<table border=\"1\" class=\"dataframe\">\n  <thead>\n    <tr style=\"text-align: right;\">\n      <th></th>\n      <th>MSSubClass</th>\n      <th>MSZoning</th>\n      <th>LotFrontage</th>\n      <th>LotArea</th>\n      <th>Street</th>\n      <th>Alley</th>\n      <th>LotShape</th>\n      <th>LandContour</th>\n      <th>Utilities</th>\n      <th>LotConfig</th>\n      <th>...</th>\n      <th>PoolArea</th>\n      <th>PoolQC</th>\n      <th>Fence</th>\n      <th>MiscFeature</th>\n      <th>MiscVal</th>\n      <th>MoSold</th>\n      <th>YrSold</th>\n      <th>SaleType</th>\n      <th>SaleCondition</th>\n      <th>SalePrice</th>\n    </tr>\n  </thead>\n  <tbody>\n    <tr>\n      <th>0</th>\n      <td>60</td>\n      <td>RL</td>\n      <td>65</td>\n      <td>8450</td>\n      <td>Pave</td>\n      <td>NA</td>\n      <td>Reg</td>\n      <td>Lvl</td>\n      <td>AllPub</td>\n      <td>Inside</td>\n      <td>...</td>\n      <td>0</td>\n      <td>NA</td>\n      <td>NA</td>\n      <td>NA</td>\n      <td>0</td>\n      <td>2</td>\n      <td>2008</td>\n      <td>WD</td>\n      <td>Normal</td>\n      <td>208500</td>\n    </tr>\n    <tr>\n      <th>1</th>\n      <td>20</td>\n      <td>RL</td>\n      <td>80</td>\n      <td>9600</td>\n      <td>Pave</td>\n      <td>NA</td>\n      <td>Reg</td>\n      <td>Lvl</td>\n      <td>AllPub</td>\n      <td>FR2</td>\n      <td>...</td>\n      <td>0</td>\n      <td>NA</td>\n      <td>NA</td>\n      <td>NA</td>\n      <td>0</td>\n      <td>5</td>\n      <td>2007</td>\n      <td>WD</td>\n      <td>Normal</td>\n      <td>181500</td>\n    </tr>\n    <tr>\n      <th>2</th>\n      <td>60</td>\n      <td>RL</td>\n      <td>68</td>\n      <td>11250</td>\n      <td>Pave</td>\n      <td>NA</td>\n      <td>IR1</td>\n      <td>Lvl</td>\n      <td>AllPub</td>\n      <td>Inside</td>\n      <td>...</td>\n      <td>0</td>\n      <td>NA</td>\n      <td>NA</td>\n      <td>NA</td>\n      <td>0</td>\n      <td>9</td>\n      <td>2008</td>\n      <td>WD</td>\n      <td>Normal</td>\n      <td>223500</td>\n    </tr>\n    <tr>\n      <th>3</th>\n      <td>70</td>\n      <td>RL</td>\n      <td>60</td>\n      <td>9550</td>\n      <td>Pave</td>\n      <td>NA</td>\n      <td>IR1</td>\n      <td>Lvl</td>\n      <td>AllPub</td>\n      <td>Corner</td>\n      <td>...</td>\n      <td>0</td>\n      <td>NA</td>\n      <td>NA</td>\n      <td>NA</td>\n      <td>0</td>\n      <td>2</td>\n      <td>2006</td>\n      <td>WD</td>\n      <td>Abnorml</td>\n      <td>140000</td>\n    </tr>\n    <tr>\n      <th>4</th>\n      <td>60</td>\n      <td>RL</td>\n      <td>84</td>\n      <td>14260</td>\n      <td>Pave</td>\n      <td>NA</td>\n      <td>IR1</td>\n      <td>Lvl</td>\n      <td>AllPub</td>\n      <td>FR2</td>\n      <td>...</td>\n      <td>0</td>\n      <td>NA</td>\n      <td>NA</td>\n      <td>NA</td>\n      <td>0</td>\n      <td>12</td>\n      <td>2008</td>\n      <td>WD</td>\n      <td>Normal</td>\n      <td>250000</td>\n    </tr>\n    <tr>\n      <th>...</th>\n      <td>...</td>\n      <td>...</td>\n      <td>...</td>\n      <td>...</td>\n      <td>...</td>\n      <td>...</td>\n      <td>...</td>\n      <td>...</td>\n      <td>...</td>\n      <td>...</td>\n      <td>...</td>\n      <td>...</td>\n      <td>...</td>\n      <td>...</td>\n      <td>...</td>\n      <td>...</td>\n      <td>...</td>\n      <td>...</td>\n      <td>...</td>\n      <td>...</td>\n      <td>...</td>\n    </tr>\n    <tr>\n      <th>1455</th>\n      <td>60</td>\n      <td>RL</td>\n      <td>62</td>\n      <td>7917</td>\n      <td>Pave</td>\n      <td>NA</td>\n      <td>Reg</td>\n      <td>Lvl</td>\n      <td>AllPub</td>\n      <td>Inside</td>\n      <td>...</td>\n      <td>0</td>\n      <td>NA</td>\n      <td>NA</td>\n      <td>NA</td>\n      <td>0</td>\n      <td>8</td>\n      <td>2007</td>\n      <td>WD</td>\n      <td>Normal</td>\n      <td>175000</td>\n    </tr>\n    <tr>\n      <th>1456</th>\n      <td>20</td>\n      <td>RL</td>\n      <td>85</td>\n      <td>13175</td>\n      <td>Pave</td>\n      <td>NA</td>\n      <td>Reg</td>\n      <td>Lvl</td>\n      <td>AllPub</td>\n      <td>Inside</td>\n      <td>...</td>\n      <td>0</td>\n      <td>NA</td>\n      <td>MnPrv</td>\n      <td>NA</td>\n      <td>0</td>\n      <td>2</td>\n      <td>2010</td>\n      <td>WD</td>\n      <td>Normal</td>\n      <td>210000</td>\n    </tr>\n    <tr>\n      <th>1457</th>\n      <td>70</td>\n      <td>RL</td>\n      <td>66</td>\n      <td>9042</td>\n      <td>Pave</td>\n      <td>NA</td>\n      <td>Reg</td>\n      <td>Lvl</td>\n      <td>AllPub</td>\n      <td>Inside</td>\n      <td>...</td>\n      <td>0</td>\n      <td>NA</td>\n      <td>GdPrv</td>\n      <td>Shed</td>\n      <td>2500</td>\n      <td>5</td>\n      <td>2010</td>\n      <td>WD</td>\n      <td>Normal</td>\n      <td>266500</td>\n    </tr>\n    <tr>\n      <th>1458</th>\n      <td>20</td>\n      <td>RL</td>\n      <td>68</td>\n      <td>9717</td>\n      <td>Pave</td>\n      <td>NA</td>\n      <td>Reg</td>\n      <td>Lvl</td>\n      <td>AllPub</td>\n      <td>Inside</td>\n      <td>...</td>\n      <td>0</td>\n      <td>NA</td>\n      <td>NA</td>\n      <td>NA</td>\n      <td>0</td>\n      <td>4</td>\n      <td>2010</td>\n      <td>WD</td>\n      <td>Normal</td>\n      <td>142125</td>\n    </tr>\n    <tr>\n      <th>1459</th>\n      <td>20</td>\n      <td>RL</td>\n      <td>75</td>\n      <td>9937</td>\n      <td>Pave</td>\n      <td>NA</td>\n      <td>Reg</td>\n      <td>Lvl</td>\n      <td>AllPub</td>\n      <td>Inside</td>\n      <td>...</td>\n      <td>0</td>\n      <td>NA</td>\n      <td>NA</td>\n      <td>NA</td>\n      <td>0</td>\n      <td>6</td>\n      <td>2008</td>\n      <td>WD</td>\n      <td>Normal</td>\n      <td>147500</td>\n    </tr>\n  </tbody>\n</table>\n<p>1460 rows × 80 columns</p>\n</div>",
            "text/plain": "      MSSubClass MSZoning LotFrontage  LotArea Street Alley LotShape  \\\n0             60       RL          65     8450   Pave    NA      Reg   \n1             20       RL          80     9600   Pave    NA      Reg   \n2             60       RL          68    11250   Pave    NA      IR1   \n3             70       RL          60     9550   Pave    NA      IR1   \n4             60       RL          84    14260   Pave    NA      IR1   \n...          ...      ...         ...      ...    ...   ...      ...   \n1455          60       RL          62     7917   Pave    NA      Reg   \n1456          20       RL          85    13175   Pave    NA      Reg   \n1457          70       RL          66     9042   Pave    NA      Reg   \n1458          20       RL          68     9717   Pave    NA      Reg   \n1459          20       RL          75     9937   Pave    NA      Reg   \n\n     LandContour Utilities LotConfig  ... PoolArea PoolQC  Fence MiscFeature  \\\n0            Lvl    AllPub    Inside  ...        0     NA     NA          NA   \n1            Lvl    AllPub       FR2  ...        0     NA     NA          NA   \n2            Lvl    AllPub    Inside  ...        0     NA     NA          NA   \n3            Lvl    AllPub    Corner  ...        0     NA     NA          NA   \n4            Lvl    AllPub       FR2  ...        0     NA     NA          NA   \n...          ...       ...       ...  ...      ...    ...    ...         ...   \n1455         Lvl    AllPub    Inside  ...        0     NA     NA          NA   \n1456         Lvl    AllPub    Inside  ...        0     NA  MnPrv          NA   \n1457         Lvl    AllPub    Inside  ...        0     NA  GdPrv        Shed   \n1458         Lvl    AllPub    Inside  ...        0     NA     NA          NA   \n1459         Lvl    AllPub    Inside  ...        0     NA     NA          NA   \n\n     MiscVal MoSold  YrSold  SaleType  SaleCondition  SalePrice  \n0          0      2    2008        WD         Normal     208500  \n1          0      5    2007        WD         Normal     181500  \n2          0      9    2008        WD         Normal     223500  \n3          0      2    2006        WD        Abnorml     140000  \n4          0     12    2008        WD         Normal     250000  \n...      ...    ...     ...       ...            ...        ...  \n1455       0      8    2007        WD         Normal     175000  \n1456       0      2    2010        WD         Normal     210000  \n1457    2500      5    2010        WD         Normal     266500  \n1458       0      4    2010        WD         Normal     142125  \n1459       0      6    2008        WD         Normal     147500  \n\n[1460 rows x 80 columns]"
          },
          "metadata": {}
        }
      ],
      "execution_count": 98,
      "metadata": {
        "scrolled": true
      },
      "id": "composed-apache"
    },
    {
      "cell_type": "code",
      "source": [
        "print(\"Number of columns: \" + str (df.shape[1]))\n",
        "print(\"number of rows: \" + str (df.shape[0]))"
      ],
      "outputs": [
        {
          "output_type": "stream",
          "name": "stdout",
          "text": [
            "Number of columns: 80\n",
            "number of rows: 1460\n"
          ]
        }
      ],
      "execution_count": 99,
      "metadata": {},
      "id": "comprehensive-method"
    },
    {
      "cell_type": "code",
      "source": [
        "df['SalePrice'].describe()"
      ],
      "outputs": [
        {
          "output_type": "execute_result",
          "execution_count": 100,
          "data": {
            "text/plain": "count      1460.000000\nmean     180921.195890\nstd       79442.502883\nmin       34900.000000\n25%      129975.000000\n50%      163000.000000\n75%      214000.000000\nmax      755000.000000\nName: SalePrice, dtype: float64"
          },
          "metadata": {}
        }
      ],
      "execution_count": 100,
      "metadata": {},
      "id": "cardiac-industry"
    },
    {
      "cell_type": "code",
      "source": [
        "df = df.replace('NA', np.NaN)\n",
        "\n",
        "df_data = df.loc[:, 'MSSubClass': 'SaleCondition']\n",
        "df_data_na = (df_data.isnull().sum()/ len(df_data)) * 100\n",
        "df_data_na = df_data_na.drop(df_data_na[df_data_na == 0].index).sort_values(ascending = False)\n",
        "\n",
        "missing_data = pd.DataFrame({'Missing Ratio':df_data_na})\n",
        "missing_data"
      ],
      "outputs": [
        {
          "output_type": "execute_result",
          "execution_count": 101,
          "data": {
            "text/html": "<div>\n<style scoped>\n    .dataframe tbody tr th:only-of-type {\n        vertical-align: middle;\n    }\n\n    .dataframe tbody tr th {\n        vertical-align: top;\n    }\n\n    .dataframe thead th {\n        text-align: right;\n    }\n</style>\n<table border=\"1\" class=\"dataframe\">\n  <thead>\n    <tr style=\"text-align: right;\">\n      <th></th>\n      <th>Missing Ratio</th>\n    </tr>\n  </thead>\n  <tbody>\n    <tr>\n      <th>PoolQC</th>\n      <td>99.520548</td>\n    </tr>\n    <tr>\n      <th>MiscFeature</th>\n      <td>96.301370</td>\n    </tr>\n    <tr>\n      <th>Alley</th>\n      <td>93.767123</td>\n    </tr>\n    <tr>\n      <th>Fence</th>\n      <td>80.753425</td>\n    </tr>\n    <tr>\n      <th>FireplaceQu</th>\n      <td>47.260274</td>\n    </tr>\n    <tr>\n      <th>LotFrontage</th>\n      <td>17.739726</td>\n    </tr>\n    <tr>\n      <th>GarageYrBlt</th>\n      <td>5.547945</td>\n    </tr>\n    <tr>\n      <th>GarageType</th>\n      <td>5.547945</td>\n    </tr>\n    <tr>\n      <th>GarageFinish</th>\n      <td>5.547945</td>\n    </tr>\n    <tr>\n      <th>GarageQual</th>\n      <td>5.547945</td>\n    </tr>\n    <tr>\n      <th>GarageCond</th>\n      <td>5.547945</td>\n    </tr>\n    <tr>\n      <th>BsmtFinType2</th>\n      <td>2.602740</td>\n    </tr>\n    <tr>\n      <th>BsmtExposure</th>\n      <td>2.602740</td>\n    </tr>\n    <tr>\n      <th>BsmtFinType1</th>\n      <td>2.534247</td>\n    </tr>\n    <tr>\n      <th>BsmtCond</th>\n      <td>2.534247</td>\n    </tr>\n    <tr>\n      <th>BsmtQual</th>\n      <td>2.534247</td>\n    </tr>\n    <tr>\n      <th>MasVnrArea</th>\n      <td>0.547945</td>\n    </tr>\n    <tr>\n      <th>MasVnrType</th>\n      <td>0.547945</td>\n    </tr>\n    <tr>\n      <th>Electrical</th>\n      <td>0.068493</td>\n    </tr>\n  </tbody>\n</table>\n</div>",
            "text/plain": "              Missing Ratio\nPoolQC            99.520548\nMiscFeature       96.301370\nAlley             93.767123\nFence             80.753425\nFireplaceQu       47.260274\nLotFrontage       17.739726\nGarageYrBlt        5.547945\nGarageType         5.547945\nGarageFinish       5.547945\nGarageQual         5.547945\nGarageCond         5.547945\nBsmtFinType2       2.602740\nBsmtExposure       2.602740\nBsmtFinType1       2.534247\nBsmtCond           2.534247\nBsmtQual           2.534247\nMasVnrArea         0.547945\nMasVnrType         0.547945\nElectrical         0.068493"
          },
          "metadata": {}
        }
      ],
      "execution_count": 101,
      "metadata": {
        "scrolled": true
      },
      "id": "cross-schema"
    },
    {
      "cell_type": "markdown",
      "source": [
        "## Data cleaning"
      ],
      "metadata": {},
      "id": "coordinated-establishment"
    },
    {
      "cell_type": "code",
      "source": [
        "for col in ('PoolQC','MiscFeature','GarageType','Alley','Fence','FireplaceQu','GarageFinish',\n",
        "           'GarageQual','GarageCond','MasVnrType','MSSubClass', 'BsmtQual', 'BsmtCond',\n",
        "           'BsmtExposure','BsmtFinType1','BsmtFinType2'):\n",
        "    df[col] = df[col].fillna('None')\n",
        "\n",
        "for col in ('GarageYrBlt','GarageArea', 'GarageCars'):\n",
        "    df[col] = df[col].fillna(0)\n",
        "    \n",
        "for col in ('BsmtFinSF1','BsmtFinSF2', 'BsmtUnfSF','TotalBsmtSF','BsmtFullBath',\n",
        "            'BsmtHalfBath', 'MasVnrArea'):\n",
        "    df[col] = df[col].fillna(0)\n",
        "    \n",
        "df[\"LotFrontage\"] = df.groupby(\"Neighborhood\")[\"LotFrontage\"].transform(\n",
        "lambda x: x.fillna(x.median()))\n",
        "\n",
        "df['MSZoning'] = df['MSZoning'].fillna(df['MSZoning'].mode()[0])\n",
        "\n",
        "df[\"Functional\"] = df[\"Functional\"].fillna('Typ')\n",
        "\n",
        "df['Electrical'] = df['Electrical'].fillna(df['Electrical'].mode()[0])\n",
        "\n",
        "df['KitchenQual'] = df['KitchenQual'].fillna(df['KitchenQual'].mode()[0])\n",
        "\n",
        "df['Exterior1st']= df['Exterior1st'].fillna(df['Exterior1st'].mode()[0])\n",
        "df['Exterior2nd']= df['Exterior2nd'].fillna(df['Exterior2nd'].mode()[0])\n",
        "\n",
        "df['SaleType'] = df['SaleType'].fillna(df['SaleType'].mode()[0])"
      ],
      "outputs": [],
      "execution_count": 102,
      "metadata": {},
      "id": "lonely-teaching"
    },
    {
      "cell_type": "code",
      "source": [
        "df = df.drop(['Utilities'], axis=1) #We can delete Utilities as it is full of AllPub values"
      ],
      "outputs": [],
      "execution_count": 103,
      "metadata": {},
      "id": "finnish-bobby"
    },
    {
      "cell_type": "code",
      "source": [
        "#Transforming required numerical features to categorical \n",
        "df['MSSubClass']= df['MSSubClass'].apply(str)\n",
        "df['OverallCond'] = df['OverallCond'].astype(str)\n",
        "df['YrSold'] = df['YrSold'].astype(str)\n",
        "df['MoSold'] = df['MoSold'].astype(str)"
      ],
      "outputs": [],
      "execution_count": 104,
      "metadata": {},
      "id": "productive-madonna"
    },
    {
      "cell_type": "code",
      "source": [
        "#Label Encoding some categorical variables\n",
        "#for information in their ordering set\n",
        "\n",
        "from sklearn.preprocessing import LabelEncoder\n",
        "cols = ('FireplaceQu', 'BsmtQual', 'BsmtCond', 'GarageQual', 'GarageCond', \n",
        "        'ExterQual', 'ExterCond','HeatingQC', 'PoolQC', 'KitchenQual', 'BsmtFinType1', \n",
        "        'BsmtFinType2', 'Functional', 'Fence', 'BsmtExposure', 'GarageFinish', 'LandSlope',\n",
        "        'LotShape', 'PavedDrive', 'Street', 'Alley', 'CentralAir', 'MSSubClass', 'OverallCond', \n",
        "        'YrSold', 'MoSold')\n",
        "\n",
        "#apply LabelEncoder to categorical features\n",
        "for c in cols:\n",
        "    lbl = LabelEncoder()\n",
        "    lbl.fit(list(df[c].values))\n",
        "    df[c] = lbl.transform(list(df[c].values))\n",
        "#shape\n",
        "print('Shape all_data: {}'.format(df.shape))"
      ],
      "outputs": [
        {
          "output_type": "stream",
          "name": "stdout",
          "text": [
            "Shape all_data: (1460, 79)\n"
          ]
        }
      ],
      "execution_count": 105,
      "metadata": {},
      "id": "environmental-anderson"
    },
    {
      "cell_type": "code",
      "source": [
        "#add total surface area as TotalSf = basement + firstflr + secondflr\n",
        "df['TotalSF'] = df['TotalBsmtSF'] + df['1stFlrSF'] + df['2ndFlrSF']"
      ],
      "outputs": [],
      "execution_count": 89,
      "metadata": {},
      "id": "informative-singles"
    },
    {
      "cell_type": "code",
      "source": [
        "df"
      ],
      "outputs": [
        {
          "output_type": "execute_result",
          "execution_count": 90,
          "data": {
            "text/html": "<div>\n<style scoped>\n    .dataframe tbody tr th:only-of-type {\n        vertical-align: middle;\n    }\n\n    .dataframe tbody tr th {\n        vertical-align: top;\n    }\n\n    .dataframe thead th {\n        text-align: right;\n    }\n</style>\n<table border=\"1\" class=\"dataframe\">\n  <thead>\n    <tr style=\"text-align: right;\">\n      <th></th>\n      <th>MSSubClass</th>\n      <th>MSZoning</th>\n      <th>LotFrontage</th>\n      <th>LotArea</th>\n      <th>Street</th>\n      <th>Alley</th>\n      <th>LotShape</th>\n      <th>LandContour</th>\n      <th>LotConfig</th>\n      <th>LandSlope</th>\n      <th>...</th>\n      <th>PoolQC</th>\n      <th>Fence</th>\n      <th>MiscFeature</th>\n      <th>MiscVal</th>\n      <th>MoSold</th>\n      <th>YrSold</th>\n      <th>SaleType</th>\n      <th>SaleCondition</th>\n      <th>SalePrice</th>\n      <th>TotalSF</th>\n    </tr>\n  </thead>\n  <tbody>\n    <tr>\n      <th>0</th>\n      <td>9</td>\n      <td>RL</td>\n      <td>65</td>\n      <td>8450</td>\n      <td>1</td>\n      <td>1</td>\n      <td>3</td>\n      <td>Lvl</td>\n      <td>Inside</td>\n      <td>0</td>\n      <td>...</td>\n      <td>3</td>\n      <td>4</td>\n      <td>None</td>\n      <td>0</td>\n      <td>4</td>\n      <td>2</td>\n      <td>WD</td>\n      <td>Normal</td>\n      <td>208500</td>\n      <td>2566</td>\n    </tr>\n    <tr>\n      <th>1</th>\n      <td>4</td>\n      <td>RL</td>\n      <td>80</td>\n      <td>9600</td>\n      <td>1</td>\n      <td>1</td>\n      <td>3</td>\n      <td>Lvl</td>\n      <td>FR2</td>\n      <td>0</td>\n      <td>...</td>\n      <td>3</td>\n      <td>4</td>\n      <td>None</td>\n      <td>0</td>\n      <td>7</td>\n      <td>1</td>\n      <td>WD</td>\n      <td>Normal</td>\n      <td>181500</td>\n      <td>2524</td>\n    </tr>\n    <tr>\n      <th>2</th>\n      <td>9</td>\n      <td>RL</td>\n      <td>68</td>\n      <td>11250</td>\n      <td>1</td>\n      <td>1</td>\n      <td>0</td>\n      <td>Lvl</td>\n      <td>Inside</td>\n      <td>0</td>\n      <td>...</td>\n      <td>3</td>\n      <td>4</td>\n      <td>None</td>\n      <td>0</td>\n      <td>11</td>\n      <td>2</td>\n      <td>WD</td>\n      <td>Normal</td>\n      <td>223500</td>\n      <td>2706</td>\n    </tr>\n    <tr>\n      <th>3</th>\n      <td>10</td>\n      <td>RL</td>\n      <td>60</td>\n      <td>9550</td>\n      <td>1</td>\n      <td>1</td>\n      <td>0</td>\n      <td>Lvl</td>\n      <td>Corner</td>\n      <td>0</td>\n      <td>...</td>\n      <td>3</td>\n      <td>4</td>\n      <td>None</td>\n      <td>0</td>\n      <td>4</td>\n      <td>0</td>\n      <td>WD</td>\n      <td>Abnorml</td>\n      <td>140000</td>\n      <td>2473</td>\n    </tr>\n    <tr>\n      <th>4</th>\n      <td>9</td>\n      <td>RL</td>\n      <td>84</td>\n      <td>14260</td>\n      <td>1</td>\n      <td>1</td>\n      <td>0</td>\n      <td>Lvl</td>\n      <td>FR2</td>\n      <td>0</td>\n      <td>...</td>\n      <td>3</td>\n      <td>4</td>\n      <td>None</td>\n      <td>0</td>\n      <td>3</td>\n      <td>2</td>\n      <td>WD</td>\n      <td>Normal</td>\n      <td>250000</td>\n      <td>3343</td>\n    </tr>\n    <tr>\n      <th>...</th>\n      <td>...</td>\n      <td>...</td>\n      <td>...</td>\n      <td>...</td>\n      <td>...</td>\n      <td>...</td>\n      <td>...</td>\n      <td>...</td>\n      <td>...</td>\n      <td>...</td>\n      <td>...</td>\n      <td>...</td>\n      <td>...</td>\n      <td>...</td>\n      <td>...</td>\n      <td>...</td>\n      <td>...</td>\n      <td>...</td>\n      <td>...</td>\n      <td>...</td>\n      <td>...</td>\n    </tr>\n    <tr>\n      <th>1455</th>\n      <td>9</td>\n      <td>RL</td>\n      <td>62</td>\n      <td>7917</td>\n      <td>1</td>\n      <td>1</td>\n      <td>3</td>\n      <td>Lvl</td>\n      <td>Inside</td>\n      <td>0</td>\n      <td>...</td>\n      <td>3</td>\n      <td>4</td>\n      <td>None</td>\n      <td>0</td>\n      <td>10</td>\n      <td>1</td>\n      <td>WD</td>\n      <td>Normal</td>\n      <td>175000</td>\n      <td>2600</td>\n    </tr>\n    <tr>\n      <th>1456</th>\n      <td>4</td>\n      <td>RL</td>\n      <td>85</td>\n      <td>13175</td>\n      <td>1</td>\n      <td>1</td>\n      <td>3</td>\n      <td>Lvl</td>\n      <td>Inside</td>\n      <td>0</td>\n      <td>...</td>\n      <td>3</td>\n      <td>2</td>\n      <td>None</td>\n      <td>0</td>\n      <td>4</td>\n      <td>4</td>\n      <td>WD</td>\n      <td>Normal</td>\n      <td>210000</td>\n      <td>3615</td>\n    </tr>\n    <tr>\n      <th>1457</th>\n      <td>10</td>\n      <td>RL</td>\n      <td>66</td>\n      <td>9042</td>\n      <td>1</td>\n      <td>1</td>\n      <td>3</td>\n      <td>Lvl</td>\n      <td>Inside</td>\n      <td>0</td>\n      <td>...</td>\n      <td>3</td>\n      <td>0</td>\n      <td>Shed</td>\n      <td>2500</td>\n      <td>7</td>\n      <td>4</td>\n      <td>WD</td>\n      <td>Normal</td>\n      <td>266500</td>\n      <td>3492</td>\n    </tr>\n    <tr>\n      <th>1458</th>\n      <td>4</td>\n      <td>RL</td>\n      <td>68</td>\n      <td>9717</td>\n      <td>1</td>\n      <td>1</td>\n      <td>3</td>\n      <td>Lvl</td>\n      <td>Inside</td>\n      <td>0</td>\n      <td>...</td>\n      <td>3</td>\n      <td>4</td>\n      <td>None</td>\n      <td>0</td>\n      <td>6</td>\n      <td>4</td>\n      <td>WD</td>\n      <td>Normal</td>\n      <td>142125</td>\n      <td>2156</td>\n    </tr>\n    <tr>\n      <th>1459</th>\n      <td>4</td>\n      <td>RL</td>\n      <td>75</td>\n      <td>9937</td>\n      <td>1</td>\n      <td>1</td>\n      <td>3</td>\n      <td>Lvl</td>\n      <td>Inside</td>\n      <td>0</td>\n      <td>...</td>\n      <td>3</td>\n      <td>4</td>\n      <td>None</td>\n      <td>0</td>\n      <td>8</td>\n      <td>2</td>\n      <td>WD</td>\n      <td>Normal</td>\n      <td>147500</td>\n      <td>2512</td>\n    </tr>\n  </tbody>\n</table>\n<p>1460 rows × 80 columns</p>\n</div>",
            "text/plain": "      MSSubClass MSZoning LotFrontage  LotArea  Street  Alley  LotShape  \\\n0              9       RL          65     8450       1      1         3   \n1              4       RL          80     9600       1      1         3   \n2              9       RL          68    11250       1      1         0   \n3             10       RL          60     9550       1      1         0   \n4              9       RL          84    14260       1      1         0   \n...          ...      ...         ...      ...     ...    ...       ...   \n1455           9       RL          62     7917       1      1         3   \n1456           4       RL          85    13175       1      1         3   \n1457          10       RL          66     9042       1      1         3   \n1458           4       RL          68     9717       1      1         3   \n1459           4       RL          75     9937       1      1         3   \n\n     LandContour LotConfig  LandSlope  ... PoolQC Fence MiscFeature MiscVal  \\\n0            Lvl    Inside          0  ...      3     4        None       0   \n1            Lvl       FR2          0  ...      3     4        None       0   \n2            Lvl    Inside          0  ...      3     4        None       0   \n3            Lvl    Corner          0  ...      3     4        None       0   \n4            Lvl       FR2          0  ...      3     4        None       0   \n...          ...       ...        ...  ...    ...   ...         ...     ...   \n1455         Lvl    Inside          0  ...      3     4        None       0   \n1456         Lvl    Inside          0  ...      3     2        None       0   \n1457         Lvl    Inside          0  ...      3     0        Shed    2500   \n1458         Lvl    Inside          0  ...      3     4        None       0   \n1459         Lvl    Inside          0  ...      3     4        None       0   \n\n     MoSold  YrSold  SaleType  SaleCondition  SalePrice TotalSF  \n0         4       2        WD         Normal     208500    2566  \n1         7       1        WD         Normal     181500    2524  \n2        11       2        WD         Normal     223500    2706  \n3         4       0        WD        Abnorml     140000    2473  \n4         3       2        WD         Normal     250000    3343  \n...     ...     ...       ...            ...        ...     ...  \n1455     10       1        WD         Normal     175000    2600  \n1456      4       4        WD         Normal     210000    3615  \n1457      7       4        WD         Normal     266500    3492  \n1458      6       4        WD         Normal     142125    2156  \n1459      8       2        WD         Normal     147500    2512  \n\n[1460 rows x 80 columns]"
          },
          "metadata": {}
        }
      ],
      "execution_count": 90,
      "metadata": {},
      "id": "laden-digit"
    },
    {
      "cell_type": "code",
      "source": [
        "df = pd.get_dummies(df)\n",
        "print(df.shape)"
      ],
      "outputs": [
        {
          "output_type": "stream",
          "name": "stdout",
          "text": [
            "(1460, 447)\n"
          ]
        }
      ],
      "execution_count": 97,
      "metadata": {
        "scrolled": true
      },
      "id": "organic-reputation"
    },
    {
      "cell_type": "code",
      "source": [],
      "outputs": [],
      "execution_count": null,
      "metadata": {},
      "id": "eligible-islam"
    }
  ],
  "metadata": {
    "kernelspec": {
      "name": "python3-azureml",
      "language": "python",
      "display_name": "Python 3.6 - AzureML"
    },
    "language_info": {
      "name": "python",
      "version": "3.6.9",
      "mimetype": "text/x-python",
      "codemirror_mode": {
        "name": "ipython",
        "version": 3
      },
      "pygments_lexer": "ipython3",
      "nbconvert_exporter": "python",
      "file_extension": ".py"
    },
    "kernel_info": {
      "name": "python3-azureml"
    },
    "nteract": {
      "version": "nteract-front-end@1.0.0"
    }
  },
  "nbformat": 4,
  "nbformat_minor": 5
}